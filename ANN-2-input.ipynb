{
 "cells": [
  {
   "cell_type": "code",
   "execution_count": 1,
   "id": "dcb46dbb-74ac-495e-ae09-aedc15e6243e",
   "metadata": {},
   "outputs": [
    {
     "name": "stdout",
     "output_type": "stream",
     "text": [
      "Initial w1: 0.733 and w2: 0.006\n",
      "Final w1: 1.104  and w2: 0.561\n",
      "Error: 0.000 A: 0.980\n"
     ]
    },
    {
     "data": {
      "image/png": "[encoded data removed]",
      "text/plain": [
       "<Figure size 468x360 with 1 Axes>"
      ]
     },
     "metadata": {
      "needs_background": "light"
     },
     "output_type": "display_data"
    }
   ],
   "source": [
    "# Import the necessary packages and modules\n",
    "import matplotlib.pyplot as plt\n",
    "plt.style.use('./sci.mplstyle')\n",
    "import numpy as np\n",
    "\n",
    "# Define activation function\n",
    "def sigmoid(y):\n",
    "    return 1.0/(1+np.exp(-1*y))\n",
    "# Define error function\n",
    "def error(A, Y):\n",
    "    return np.power(A-Y, 2)\n",
    "# Define derivative of error function\n",
    "def d_error_A(A, Y):\n",
    "    return 2*(A-Y)\n",
    "# Define derivative of activation function\n",
    "def d_A_y(A):\n",
    "    return A*(1.0-A)\n",
    "# Define derivative of linear function\n",
    "def d_y_w(x):\n",
    "    return x\n",
    "# Define the gradient of weight\n",
    "def update_w(w,grad,r):\n",
    "    return w-r*grad\n",
    "\n",
    "# Input value\n",
    "x1 = 2\n",
    "x2 = 3\n",
    "# Output value\n",
    "Y = 1\n",
    "# Learning rate\n",
    "r = 0.5\n",
    "\n",
    "# Guest a initial value of weight\n",
    "w1 = np.random.rand()\n",
    "w2 = np.random.rand()\n",
    "print(\"Initial w1: %5.3f\" %w1, \"and w2: %5.3f\" %w2)\n",
    "\n",
    "step = []\n",
    "err_step = []\n",
    "\n",
    "# Traning process\n",
    "for k in range(100):\n",
    "    # Forward pass\n",
    "    y = w1*x1 + w2*x2\n",
    "    A = sigmoid(y)\n",
    "    err = error(A, Y)\n",
    "    \n",
    "    # Backward pass\n",
    "    g1 = d_error_A(A,Y)*d_A_y(A)*d_y_w(x1)\n",
    "    g2 = d_error_A(A,Y)*d_A_y(A)*d_y_w(x2)\n",
    "    w1 = update_w(w1, g1, r)\n",
    "    w2 = update_w(w2, g2, r)\n",
    "    \n",
    "    #Store results\n",
    "    step.append((k))\n",
    "    err_step.append((err))\n",
    "\n",
    "# Print the final results\n",
    "print(\"Final w1: %5.3f\" %w1, \" and w2: %5.3f\" %w2)\n",
    "print(\"Error: %5.3f\"%err, \"A: %5.3f\"%A)\n",
    "\n",
    "# Create figure object\n",
    "plt.figure()\n",
    "# Add the x and y-axis labels\n",
    "plt.xlabel('Iteration Number')\n",
    "plt.ylabel('Error')\n",
    "# Plot\n",
    "plt.plot(step, err_step)\n",
    "# Save figure\n",
    "plt.savefig('ANN-2-input.png')\n",
    "plt.show()"
   ]
  },
  {
   "cell_type": "code",
   "execution_count": null,
   "id": "78ea9e17-dd0a-4fde-96b9-68cf9b33f613",
   "metadata": {},
   "outputs": [],
   "source": []
  }
 ],
 "metadata": {
  "kernelspec": {
   "display_name": "Python 3 (ipykernel)",
   "language": "python",
   "name": "python3"
  },
  "language_info": {
   "codemirror_mode": {
    "name": "ipython",
    "version": 3
   },
   "file_extension": ".py",
   "mimetype": "text/x-python",
   "name": "python",
   "nbconvert_exporter": "python",
   "pygments_lexer": "ipython3",
   "version": "3.7.10"
  }
 },
 "nbformat": 4,
 "nbformat_minor": 5
}
