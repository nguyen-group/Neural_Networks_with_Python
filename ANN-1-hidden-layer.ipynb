{
 "cells": [
  {
   "cell_type": "code",
   "execution_count": 1,
   "id": "dcb46dbb-74ac-495e-ae09-aedc15e6243e",
   "metadata": {},
   "outputs": [
    {
     "name": "stdout",
     "output_type": "stream",
     "text": [
      "Initial w: [0.809 0.9   0.424] [0.031 0.61  0.838] [0.897 0.166]\n",
      "Final w: [ 0.779  0.753 -0.457] [0.029 0.602 0.792] [-0.146 -1.382]\n",
      "Error: 0.000 A: 0.209\n"
     ]
    },
    {
     "data": {
      "image/png": "[encoded data removed]",
      "text/plain": [
       "<Figure size 468x360 with 1 Axes>"
      ]
     },
     "metadata": {
      "needs_background": "light"
     },
     "output_type": "display_data"
    }
   ],
   "source": [
    "# Import the necessary packages and modules\n",
    "import matplotlib.pyplot as plt\n",
    "plt.style.use('./sci.mplstyle')\n",
    "import numpy as np\n",
    "\n",
    "# Define activation function\n",
    "def sigmoid(y):\n",
    "    return 1.0/(1+np.exp(-1*y))\n",
    "# Define error function\n",
    "def error(A, Y):\n",
    "    return np.power(A-Y, 2)\n",
    "# Define derivative of error function\n",
    "def d_error_A(A, Y):\n",
    "    return 2*(A-Y)\n",
    "# Define derivative of activation function\n",
    "def d_A_y(A):\n",
    "    return A*(1.0-A)\n",
    "# Define derivative of linear function\n",
    "def d_y_w(x):\n",
    "    return x\n",
    "# Define the gradient of weight\n",
    "def update_w(w,grad,r):\n",
    "    return w-r*grad\n",
    "\n",
    "# Input value\n",
    "x = np.array([0.1, 0.5, 3])\n",
    "# Output value\n",
    "Y = np.array([0.2])\n",
    "\n",
    "# Learning rate\n",
    "r = 0.5\n",
    "\n",
    "# Guest a initial value of weight\n",
    "w1 = np.random.rand(3) # i.e., w11, w21, w31\n",
    "w2 = np.random.rand(3) # i.e., w12, w22, w32\n",
    "w3 = np.random.rand(2) # i.e., w41, w42\n",
    "w3_old = w3\n",
    "np.set_printoptions(precision=3)\n",
    "print(\"Initial w:\", w1, w2, w3)\n",
    "\n",
    "step = []\n",
    "err_step = []\n",
    "\n",
    "# Traning process\n",
    "for k in range(100):\n",
    "    # Forward pass\n",
    "    y1 = np.sum(w1*x)\n",
    "    y2 = np.sum(w2*x)\n",
    "    A1 = sigmoid(y1)\n",
    "    A2 = sigmoid(y2)\n",
    "    y3 = np.sum(w3*np.array([A1, A2]))\n",
    "    A3 = sigmoid(y3)\n",
    "    err = error(A3, Y)\n",
    "    \n",
    "    # Backward pass\n",
    "    g1 = d_error_A(A3,Y)\n",
    "    g2 = d_A_y(A3)\n",
    "    g3 = np.zeros(w3.shape[0])\n",
    "    g3[0] = d_y_w(A1)\n",
    "    g3[1] = d_y_w(A2)\n",
    "    ## Weights of output layer\n",
    "    grad_hidden = g3*g2*g1 # i.e., g41, g42\n",
    "    w3 = update_w(w3,grad_hidden,r) # i.e., w41, w42\n",
    "    ## Weights of firts neutro of hidden layer\n",
    "    g3 = d_y_w(w3_old[0])\n",
    "    g4 = d_A_y(A1)\n",
    "    g5 = d_y_w(x)\n",
    "    grad_hidden1 = g5*g4*g3*g2*g1 # i.e., g11, g21, g31\n",
    "    w1 = update_w(w1,grad_hidden1,r) # i.e., w11, w21, w31\n",
    "    ## Weights of second neutro of hidden layer\n",
    "    g3 = d_y_w(w3_old[1])\n",
    "    g4 = d_A_y(A2)\n",
    "    g5 = d_y_w(x)\n",
    "    grad_hidden2 = g5*g4*g3*g2*g1 # i.e., g12, g22, g32\n",
    "    w2 = update_w(w2,grad_hidden2,r) # i.e., w12, w22, w32\n",
    "    \n",
    "    #Store results\n",
    "    step.append((k))\n",
    "    err_step.append((err))\n",
    "\n",
    "# Print the final results\n",
    "print(\"Final w:\", w1, w2, w3)\n",
    "print(\"Error: %5.3f\"%err, \"A: %5.3f\"%A3)\n",
    "\n",
    "# Create figure object\n",
    "plt.figure()\n",
    "# Add the x and y-axis labels\n",
    "plt.xlabel('Iteration Number')\n",
    "plt.ylabel('Error')\n",
    "# Plot\n",
    "plt.plot(step, err_step)\n",
    "# Save figure\n",
    "plt.savefig('ANN-1-hidden-layer.png')\n",
    "plt.show()"
   ]
  },
  {
   "cell_type": "code",
   "execution_count": null,
   "id": "2434e96c-f41f-4029-947a-e2cb0f84f213",
   "metadata": {},
   "outputs": [],
   "source": []
  }
 ],
 "metadata": {
  "kernelspec": {
   "display_name": "Python 3 (ipykernel)",
   "language": "python",
   "name": "python3"
  },
  "language_info": {
   "codemirror_mode": {
    "name": "ipython",
    "version": 3
   },
   "file_extension": ".py",
   "mimetype": "text/x-python",
   "name": "python",
   "nbconvert_exporter": "python",
   "pygments_lexer": "ipython3",
   "version": "3.7.10"
  }
 },
 "nbformat": 4,
 "nbformat_minor": 5
}
