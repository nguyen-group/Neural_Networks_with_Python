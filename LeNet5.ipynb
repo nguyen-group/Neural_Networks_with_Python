{
 "cells": [
  {
   "cell_type": "code",
   "execution_count": 2,
   "id": "e09477ad-c2dc-4cf4-8901-366282f218d2",
   "metadata": {},
   "outputs": [
    {
     "name": "stdout",
     "output_type": "stream",
     "text": [
      "The tensorboard extension is already loaded. To reload it, use:\n",
      "  %reload_ext tensorboard\n"
     ]
    }
   ],
   "source": [
    "# Load the TensorBoard notebook extension\n",
    "%load_ext tensorboard\n",
    "\n",
    "# Import the necessary packages and modules\n",
    "import datetime, os\n",
    "import tensorflow as tf\n",
    "import matplotlib.pyplot as plt\n",
    "plt.style.use('./sci.mplstyle')\n",
    "from tensorflow.keras import datasets, layers, models, losses"
   ]
  },
  {
   "cell_type": "code",
   "execution_count": 3,
   "id": "953270d2-da71-4468-990e-4f51cfb14beb",
   "metadata": {},
   "outputs": [
    {
     "name": "stdout",
     "output_type": "stream",
     "text": [
      "Train shape: (60000, 28, 28)\n",
      "Train samples: 60000\n",
      "Test samples: 10000\n",
      "Image shape: (28, 28)\n"
     ]
    }
   ],
   "source": [
    "# Read MNIST dataset\n",
    "(x_train, y_train), (x_test, y_test)=tf.keras.datasets.mnist.load_data()\n",
    "\n",
    "print('Train shape:', x_train.shape)\n",
    "print('Train samples:', x_train.shape[0])\n",
    "print('Test samples:', x_test.shape[0], )\n",
    "print('Image shape:', x_train[0].shape)"
   ]
  },
  {
   "cell_type": "code",
   "execution_count": 5,
   "id": "a3ea61d3-0988-4540-8e4e-ee495b36c7f3",
   "metadata": {},
   "outputs": [
    {
     "data": {
      "text/plain": [
       "TensorShape([60000, 36, 36])"
      ]
     },
     "execution_count": 5,
     "metadata": {},
     "output_type": "execute_result"
    }
   ],
   "source": [
    "# Add pad to extend size for input matrix\n",
    "x_train = tf.pad(x_train, [[0, 0], [2,2], [2,2]])/255\n",
    "x_test = tf.pad(x_test, [[0, 0], [2,2], [2,2]])/255\n",
    "x_train.shape"
   ]
  },
  {
   "cell_type": "code",
   "execution_count": 6,
   "id": "a47b7359-0b1e-4dbf-a313-b112f78b3c8b",
   "metadata": {},
   "outputs": [
    {
     "data": {
      "text/plain": [
       "TensorShape([60000, 36, 36, 1])"
      ]
     },
     "execution_count": 6,
     "metadata": {},
     "output_type": "execute_result"
    }
   ],
   "source": [
    "# Add dimension for input matrix\n",
    "x_train = tf.expand_dims(x_train, axis=3, name=None)\n",
    "x_test = tf.expand_dims(x_test, axis=3, name=None)\n",
    "x_train.shape"
   ]
  },
  {
   "cell_type": "code",
   "execution_count": 10,
   "id": "11c719bb-f90d-4f11-9db4-839e5e227800",
   "metadata": {},
   "outputs": [
    {
     "data": {
      "text/plain": [
       "TensorShape([52000, 36, 36, 1])"
      ]
     },
     "execution_count": 10,
     "metadata": {},
     "output_type": "execute_result"
    }
   ],
   "source": [
    "x_val = x_train[-2000:,:,:,:]\n",
    "y_val = y_train[-2000:]\n",
    "x_train = x_train[:-2000,:,:,:]\n",
    "y_train = y_train[:-2000]\n",
    "x_train.shape"
   ]
  },
  {
   "cell_type": "code",
   "execution_count": 11,
   "id": "bbac0440-24b4-4889-8691-31838487cabc",
   "metadata": {},
   "outputs": [
    {
     "name": "stdout",
     "output_type": "stream",
     "text": [
      "Model: \"sequential\"\n",
      "_________________________________________________________________\n",
      " Layer (type)                Output Shape              Param #   \n",
      "=================================================================\n",
      " conv2d (Conv2D)             (None, 32, 32, 6)         156       \n",
      "                                                                 \n",
      " max_pooling2d (MaxPooling2D  (None, 16, 16, 6)        0         \n",
      " )                                                               \n",
      "                                                                 \n",
      " activation (Activation)     (None, 16, 16, 6)         0         \n",
      "                                                                 \n",
      " conv2d_1 (Conv2D)           (None, 12, 12, 16)        2416      \n",
      "                                                                 \n",
      " max_pooling2d_1 (MaxPooling  (None, 6, 6, 16)         0         \n",
      " 2D)                                                             \n",
      "                                                                 \n",
      " activation_1 (Activation)   (None, 6, 6, 16)          0         \n",
      "                                                                 \n",
      " conv2d_2 (Conv2D)           (None, 2, 2, 120)         48120     \n",
      "                                                                 \n",
      " flatten (Flatten)           (None, 480)               0         \n",
      "                                                                 \n",
      " dense (Dense)               (None, 84)                40404     \n",
      "                                                                 \n",
      " dense_1 (Dense)             (None, 10)                850       \n",
      "                                                                 \n",
      "=================================================================\n",
      "Total params: 91,946\n",
      "Trainable params: 91,946\n",
      "Non-trainable params: 0\n",
      "_________________________________________________________________\n"
     ]
    }
   ],
   "source": [
    "# Build the CNN model\n",
    "model = models.Sequential()\n",
    "model.add(layers.Conv2D(6, 5, activation='relu', input_shape=x_train.shape[1:]))\n",
    "model.add(layers.MaxPool2D(2))\n",
    "model.add(layers.Activation('relu'))\n",
    "model.add(layers.Conv2D(16, 5, activation='relu'))\n",
    "model.add(layers.MaxPool2D(2))\n",
    "model.add(layers.Activation('relu'))\n",
    "model.add(layers.Conv2D(120, 5, activation='relu'))\n",
    "model.add(layers.Flatten())\n",
    "model.add(layers.Dense(84, activation='relu'))\n",
    "model.add(layers.Dense(10, activation='softmax'))\n",
    "model.summary()"
   ]
  },
  {
   "cell_type": "code",
   "execution_count": 12,
   "id": "cb502732-97cc-435f-a968-3f6d9cb09d95",
   "metadata": {},
   "outputs": [
    {
     "name": "stdout",
     "output_type": "stream",
     "text": [
      "Epoch 1/15\n",
      "813/813 [==============================] - 21s 25ms/step - loss: 0.8737 - accuracy: 0.7013 - val_loss: 0.3841 - val_accuracy: 0.8810\n",
      "Epoch 2/15\n",
      "813/813 [==============================] - 21s 26ms/step - loss: 0.2748 - accuracy: 0.9150 - val_loss: 0.2455 - val_accuracy: 0.9170\n",
      "Epoch 3/15\n",
      "813/813 [==============================] - 24s 30ms/step - loss: 0.1794 - accuracy: 0.9439 - val_loss: 0.1720 - val_accuracy: 0.9390\n",
      "Epoch 4/15\n",
      "813/813 [==============================] - 25s 30ms/step - loss: 0.1344 - accuracy: 0.9577 - val_loss: 0.1198 - val_accuracy: 0.9655\n",
      "Epoch 5/15\n",
      "813/813 [==============================] - 25s 30ms/step - loss: 0.1052 - accuracy: 0.9668 - val_loss: 0.0981 - val_accuracy: 0.9690\n",
      "Epoch 6/15\n",
      "813/813 [==============================] - 24s 30ms/step - loss: 0.0864 - accuracy: 0.9722 - val_loss: 0.0916 - val_accuracy: 0.9720\n",
      "Epoch 7/15\n",
      "813/813 [==============================] - 24s 30ms/step - loss: 0.0740 - accuracy: 0.9762 - val_loss: 0.0820 - val_accuracy: 0.9720\n",
      "Epoch 8/15\n",
      "813/813 [==============================] - 24s 29ms/step - loss: 0.0622 - accuracy: 0.9802 - val_loss: 0.0711 - val_accuracy: 0.9790\n",
      "Epoch 9/15\n",
      "813/813 [==============================] - 23s 29ms/step - loss: 0.0553 - accuracy: 0.9820 - val_loss: 0.0611 - val_accuracy: 0.9810\n",
      "Epoch 10/15\n",
      "813/813 [==============================] - 25s 31ms/step - loss: 0.0492 - accuracy: 0.9843 - val_loss: 0.0714 - val_accuracy: 0.9785\n",
      "Epoch 11/15\n",
      "813/813 [==============================] - 24s 29ms/step - loss: 0.0444 - accuracy: 0.9856 - val_loss: 0.0547 - val_accuracy: 0.9830\n",
      "Epoch 12/15\n",
      "813/813 [==============================] - 25s 31ms/step - loss: 0.0406 - accuracy: 0.9868 - val_loss: 0.0522 - val_accuracy: 0.9840\n",
      "Epoch 13/15\n",
      "813/813 [==============================] - 23s 28ms/step - loss: 0.0368 - accuracy: 0.9878 - val_loss: 0.0462 - val_accuracy: 0.9840\n",
      "Epoch 14/15\n",
      "813/813 [==============================] - 13s 17ms/step - loss: 0.0330 - accuracy: 0.9895 - val_loss: 0.0503 - val_accuracy: 0.9840\n",
      "Epoch 15/15\n",
      "813/813 [==============================] - 17s 21ms/step - loss: 0.0313 - accuracy: 0.9898 - val_loss: 0.0457 - val_accuracy: 0.9865\n"
     ]
    }
   ],
   "source": [
    "# Configures the CNN model for training\n",
    "model.compile(optimizer='adam', loss=losses.sparse_categorical_crossentropy, metrics=['accuracy'])\n",
    "# Store log for TensorBoard\n",
    "logdir = os.path.join(\"logs\", datetime.datetime.now().strftime(\"%Y%m%d-%H%M%S\"))\n",
    "tensorboard_callback = tf.keras.callbacks.TensorBoard(logdir, histogram_freq=1)\n",
    "# Training the CNN model with the given inputs\n",
    "history = model.fit(x=x_train, y=y_train, batch_size=64, epochs=15, validation_data=(x_val, y_val), callbacks=[tensorboard_callback])"
   ]
  },
  {
   "cell_type": "code",
   "execution_count": 13,
   "id": "089221b9-d339-4618-b853-63dd5d128240",
   "metadata": {},
   "outputs": [
    {
     "data": {
      "image/png": "[encoded data removed]",
      "text/plain": [
       "<Figure size 576x936 with 2 Axes>"
      ]
     },
     "metadata": {
      "needs_background": "light"
     },
     "output_type": "display_data"
    }
   ],
   "source": [
    "# Plot results with Matplotlib\n",
    "fig, axs = plt.subplots(2, 1, figsize=(8,13))\n",
    "\n",
    "axs[0].plot(history.history['loss'])\n",
    "axs[0].plot(history.history['val_loss'],ls='--')\n",
    "axs[0].set_xlabel('Number of training iterations')\n",
    "axs[0].set_ylabel('Error')\n",
    "axs[0].legend(['Train', 'Validation'])\n",
    "\n",
    "axs[1].plot(history.history['accuracy'])\n",
    "axs[1].plot(history.history['val_accuracy'],ls='--')\n",
    "axs[1].set_xlabel('Number of training iterations')\n",
    "axs[1].set_ylabel('Accuracy')\n",
    "axs[1].legend(['Train', 'Validation'])\n",
    "\n",
    "# Show figure\n",
    "plt.savefig('LeNet5.png', format=\"png\", dpi=600)\n",
    "plt.show()"
   ]
  },
  {
   "cell_type": "code",
   "execution_count": 14,
   "id": "ab9799ae-5a4f-4a12-a73d-5c700d047ac9",
   "metadata": {},
   "outputs": [
    {
     "name": "stdout",
     "output_type": "stream",
     "text": [
      "313/313 [==============================] - 4s 11ms/step - loss: 0.0403 - accuracy: 0.9864\n"
     ]
    },
    {
     "data": {
      "text/plain": [
       "[0.04034523665904999, 0.9864000082015991]"
      ]
     },
     "execution_count": 14,
     "metadata": {},
     "output_type": "execute_result"
    }
   ],
   "source": [
    "# Evaluating the already trained CNN model using the test data\n",
    "model.evaluate(x_test, y_test)"
   ]
  },
  {
   "cell_type": "code",
   "execution_count": 16,
   "id": "49cedf49-8631-4e18-a532-c2868ca9d528",
   "metadata": {},
   "outputs": [
    {
     "data": {
      "text/plain": [
       "Reusing TensorBoard on port 6006 (pid 31954), started 0:18:02 ago. (Use '!kill 31954' to kill it.)"
      ]
     },
     "metadata": {},
     "output_type": "display_data"
    },
    {
     "data": {
      "text/html": [
       "\n",
       "      <iframe id=\"tensorboard-frame-24037b9f23520f9f\" width=\"100%\" height=\"800\" frameborder=\"0\">\n",
       "      </iframe>\n",
       "      <script>\n",
       "        (function() {\n",
       "          const frame = document.getElementById(\"tensorboard-frame-24037b9f23520f9f\");\n",
       "          const url = new URL(\"/\", window.location);\n",
       "          const port = 6006;\n",
       "          if (port) {\n",
       "            url.port = port;\n",
       "          }\n",
       "          frame.src = url;\n",
       "        })();\n",
       "      </script>\n",
       "    "
      ],
      "text/plain": [
       "<IPython.core.display.HTML object>"
      ]
     },
     "metadata": {},
     "output_type": "display_data"
    }
   ],
   "source": [
    "# Show data with TensorBoard\n",
    "%tensorboard --logdir logs"
   ]
  },
  {
   "cell_type": "code",
   "execution_count": null,
   "id": "506e56cc-2050-4efc-9593-7400ff3df694",
   "metadata": {},
   "outputs": [],
   "source": []
  }
 ],
 "metadata": {
  "kernelspec": {
   "display_name": "Python 3 (ipykernel)",
   "language": "python",
   "name": "python3"
  },
  "language_info": {
   "codemirror_mode": {
    "name": "ipython",
    "version": 3
   },
   "file_extension": ".py",
   "mimetype": "text/x-python",
   "name": "python",
   "nbconvert_exporter": "python",
   "pygments_lexer": "ipython3",
   "version": "3.9.7"
  }
 },
 "nbformat": 4,
 "nbformat_minor": 5
}
